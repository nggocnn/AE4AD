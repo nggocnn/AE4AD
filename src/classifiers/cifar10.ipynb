{
 "cells": [
  {
   "cell_type": "code",
   "execution_count": 1,
   "metadata": {
    "ExecuteTime": {
     "start_time": "2023-04-24T12:26:11.158424Z",
     "end_time": "2023-04-24T12:26:19.071946Z"
    }
   },
   "outputs": [],
   "source": [
    "import numpy as np\n",
    "\n",
    "from tensorflow.keras.datasets import cifar10\n",
    "from tensorflow.keras.utils import to_categorical\n",
    "from tensorflow.keras.preprocessing import image\n",
    "from tensorflow.keras import layers, models, optimizers, callbacks, losses\n",
    "from sklearn.model_selection import train_test_split\n",
    "\n",
    "import matplotlib.pyplot as plt"
   ]
  },
  {
   "cell_type": "code",
   "execution_count": null,
   "metadata": {
    "ExecuteTime": {
     "end_time": "2023-04-23T19:05:21.573907Z",
     "start_time": "2023-04-23T19:05:20.750850Z"
    }
   },
   "outputs": [],
   "source": [
    "# Load the MNIST dataset\n",
    "(x_train, y_train), (x_test, y_test) = cifar10.load_data()"
   ]
  },
  {
   "cell_type": "code",
   "execution_count": null,
   "metadata": {
    "ExecuteTime": {
     "end_time": "2023-04-23T19:05:22.021850Z",
     "start_time": "2023-04-23T19:05:21.573907Z"
    }
   },
   "outputs": [],
   "source": [
    "# Define the labels\n",
    "labels = np.arange(10)\n",
    "\n",
    "# Plot a sample image from each label\n",
    "fig, axs = plt.subplots(1, 10, figsize=(15, 1))\n",
    "for i, label in enumerate(labels):\n",
    "    ax = axs[i]\n",
    "    img = x_train[y_train[:, 0] == label][0]\n",
    "    ax.imshow(img)\n",
    "    ax.axis(\"off\")\n",
    "    ax.set_title(str(label))\n",
    "plt.show()"
   ]
  },
  {
   "cell_type": "code",
   "execution_count": null,
   "metadata": {
    "ExecuteTime": {
     "end_time": "2023-04-23T19:05:22.426133Z",
     "start_time": "2023-04-23T19:05:22.021850Z"
    }
   },
   "outputs": [],
   "source": [
    "# Normalize pixel values to be between 0 and 1\n",
    "x_train = x_train.astype(\"float32\") / 255.0\n",
    "x_test = x_test.astype(\"float32\") / 255.0\n",
    "\n",
    "# Convert labels to categorical one-hot encoding\n",
    "y_train = to_categorical(y_train, 10)\n",
    "y_test = to_categorical(y_test, 10)"
   ]
  },
  {
   "cell_type": "code",
   "execution_count": null,
   "metadata": {
    "ExecuteTime": {
     "end_time": "2023-04-23T19:05:22.583642Z",
     "start_time": "2023-04-23T19:05:22.422859Z"
    }
   },
   "outputs": [],
   "source": [
    "x_train, x_val, y_train, y_val = train_test_split(x_train, y_train, test_size=0.1, random_state=42)"
   ]
  },
  {
   "cell_type": "code",
   "execution_count": null,
   "metadata": {
    "ExecuteTime": {
     "end_time": "2023-04-23T19:05:22.599272Z",
     "start_time": "2023-04-23T19:05:22.583642Z"
    }
   },
   "outputs": [],
   "source": [
    "# Define the data augmentation pipeline\n",
    "datagen = image.ImageDataGenerator(\n",
    "    rotation_range=10,\n",
    "    zoom_range=0.1,\n",
    "    width_shift_range=0.1,\n",
    "    height_shift_range=0.1,\n",
    "    horizontal_flip=True,\n",
    "    vertical_flip=False,\n",
    "    fill_mode='nearest'\n",
    ")"
   ]
  },
  {
   "cell_type": "code",
   "execution_count": null,
   "metadata": {
    "ExecuteTime": {
     "end_time": "2023-04-23T19:05:24.679927Z",
     "start_time": "2023-04-23T19:05:22.599272Z"
    }
   },
   "outputs": [],
   "source": [
    "# Define the CNN model architecture\n",
    "model = models.Sequential([\n",
    "    layers.Input(shape=(32, 32, 3)),\n",
    "\n",
    "    layers.Conv2D(filters=96, kernel_size=(3, 3), padding='same'),\n",
    "    layers.BatchNormalization(),\n",
    "    layers.ReLU(),\n",
    "    layers.Conv2D(filters=96, kernel_size=(3, 3), padding='same'),\n",
    "    layers.BatchNormalization(),\n",
    "    layers.ReLU(),\n",
    "    layers.Conv2D(filters=96, kernel_size=(3, 3), padding='same'),\n",
    "    layers.BatchNormalization(),\n",
    "    layers.ReLU(),\n",
    "    layers.MaxPooling2D(pool_size=(2, 2)),\n",
    "\n",
    "    layers.Conv2D(filters=192, kernel_size=(3, 3), padding='same'),\n",
    "    layers.BatchNormalization(),\n",
    "    layers.ReLU(),\n",
    "    layers.Conv2D(filters=192, kernel_size=(3, 3), padding='same'),\n",
    "    layers.BatchNormalization(),\n",
    "    layers.ReLU(),\n",
    "    layers.Conv2D(filters=192, kernel_size=(3, 3), padding='same'),\n",
    "    layers.BatchNormalization(),\n",
    "    layers.ReLU(),\n",
    "    layers.MaxPooling2D(pool_size=(2, 2)),\n",
    "\n",
    "    layers.Conv2D(filters=192, kernel_size=(3, 3), padding='same'),\n",
    "    layers.BatchNormalization(),\n",
    "    layers.ReLU(),\n",
    "    layers.Conv2D(filters=192, kernel_size=(1, 1), padding='same'),\n",
    "    layers.BatchNormalization(),\n",
    "    layers.ReLU(),\n",
    "    layers.Conv2D(filters=10, kernel_size=(1, 1), padding='same'),\n",
    "    layers.BatchNormalization(),\n",
    "    layers.ReLU(),\n",
    "    \n",
    "    layers.GlobalAvgPool2D(),\n",
    "])\n",
    "\n",
    "model.summary()"
   ]
  },
  {
   "cell_type": "code",
   "execution_count": null,
   "metadata": {},
   "outputs": [],
   "source": [
    "model.load_weights(\"cifar10_cnn_model.h5\")"
   ]
  },
  {
   "cell_type": "code",
   "execution_count": null,
   "metadata": {
    "ExecuteTime": {
     "end_time": "2023-04-23T19:05:29.074002Z",
     "start_time": "2023-04-23T19:05:29.058373Z"
    }
   },
   "outputs": [],
   "source": [
    "optimizer = optimizers.Adam()"
   ]
  },
  {
   "cell_type": "code",
   "execution_count": null,
   "metadata": {
    "ExecuteTime": {
     "end_time": "2023-04-23T19:05:30.968914Z",
     "start_time": "2023-04-23T19:05:30.949793Z"
    }
   },
   "outputs": [],
   "source": [
    "# Compile the model\n",
    "model.compile(loss=losses.CategoricalCrossentropy(from_logits=True), optimizer=optimizer, metrics=[\"accuracy\"])"
   ]
  },
  {
   "cell_type": "code",
   "execution_count": null,
   "metadata": {
    "ExecuteTime": {
     "end_time": "2023-04-23T19:05:27.620470Z",
     "start_time": "2023-04-23T19:05:27.563694Z"
    }
   },
   "outputs": [],
   "source": [
    "model.load_weights(\"cifar10_cnn_model.h5\")"
   ]
  },
  {
   "cell_type": "code",
   "execution_count": null,
   "metadata": {
    "ExecuteTime": {
     "end_time": "2023-04-23T19:05:32.142533Z",
     "start_time": "2023-04-23T19:05:32.126890Z"
    }
   },
   "outputs": [],
   "source": [
    "# Define early stopping and checkpoint callbacks\n",
    "early_stopping_cb = callbacks.EarlyStopping(patience=10, restore_best_weights=True, verbose=True)\n",
    "checkpoint_cb = callbacks.ModelCheckpoint(\"cifar10_cnn_model.h5\", save_best_only=True, verbose=True)"
   ]
  },
  {
   "cell_type": "code",
   "execution_count": null,
   "metadata": {
    "ExecuteTime": {
     "end_time": "2023-04-18T10:38:21.473759Z",
     "start_time": "2023-04-18T10:35:27.477936Z"
    },
    "scrolled": false
   },
   "outputs": [],
   "source": [
    "# Train the model with data augmentation\n",
    "history = model.fit(\n",
    "    datagen.flow(x_train, y_train, batch_size=256),\n",
    "    epochs=500,\n",
    "    validation_data=(x_val, y_val),\n",
    "    callbacks=[\n",
    "        early_stopping_cb,\n",
    "        checkpoint_cb\n",
    "    ]\n",
    ")"
   ]
  },
  {
   "cell_type": "code",
   "execution_count": null,
   "metadata": {
    "ExecuteTime": {
     "end_time": "2023-04-18T10:38:21.804678Z",
     "start_time": "2023-04-18T10:38:21.475763Z"
    }
   },
   "outputs": [],
   "source": [
    "# Plot the training and validation loss\n",
    "plt.figure(figsize=(8, 6))\n",
    "plt.plot(history.history[\"loss\"], label=\"Training Loss\")\n",
    "plt.plot(history.history[\"val_loss\"], label=\"Validation Loss\")\n",
    "plt.xlabel(\"Epoch\")\n",
    "plt.ylabel(\"Loss\")\n",
    "plt.legend()\n",
    "plt.show()\n",
    "\n",
    "# Plot the training and validation accuracy\n",
    "plt.figure(figsize=(8, 6))\n",
    "plt.plot(history.history[\"accuracy\"], label=\"Training Accuracy\")\n",
    "plt.plot(history.history[\"val_accuracy\"], label=\"Validation Accuracy\")\n",
    "plt.xlabel(\"Epoch\")\n",
    "plt.ylabel(\"Accuracy\")\n",
    "plt.legend()\n",
    "plt.show()"
   ]
  },
  {
   "cell_type": "code",
   "execution_count": 18,
   "metadata": {
    "ExecuteTime": {
     "end_time": "2023-04-23T19:18:34.338322Z",
     "start_time": "2023-04-23T19:18:30.590920Z"
    }
   },
   "outputs": [
    {
     "name": "stdout",
     "output_type": "stream",
     "text": [
      "313/313 [==============================] - 7s 12ms/step - loss: 0.4138 - accuracy: 0.9119\n",
      "Test loss: 0.4137522876262665\n",
      "Test accuracy: 0.911899983882904\n"
     ]
    }
   ],
   "source": [
    "# Evaluate the model on the test set\n",
    "score = model.evaluate(x_test, y_test)\n",
    "print(\"Test loss:\", score[0])\n",
    "print(\"Test accuracy:\", score[1])"
   ]
  },
  {
   "cell_type": "code",
   "execution_count": 19,
   "metadata": {
    "ExecuteTime": {
     "end_time": "2023-04-23T19:18:49.279311Z",
     "start_time": "2023-04-23T19:18:34.341524Z"
    }
   },
   "outputs": [
    {
     "name": "stdout",
     "output_type": "stream",
     "text": [
      "1407/1407 [==============================] - 16s 11ms/step - loss: 0.0424 - accuracy: 0.9907\n",
      "Train loss: 0.042400091886520386\n",
      "Train accuracy: 0.9906666874885559\n"
     ]
    }
   ],
   "source": [
    "# Evaluate the model on the test set\n",
    "score = model.evaluate(x_train, y_train)\n",
    "print(\"Train loss:\", score[0])\n",
    "print(\"Train accuracy:\", score[1])"
   ]
  },
  {
   "cell_type": "code",
   "execution_count": 20,
   "metadata": {},
   "outputs": [],
   "source": [
    "model.save(\"cifar10_cnn_model.h5\")"
   ]
  },
  {
   "cell_type": "code",
   "execution_count": 2,
   "metadata": {
    "ExecuteTime": {
     "start_time": "2023-04-24T12:26:31.459455Z",
     "end_time": "2023-04-24T12:26:33.454478Z"
    }
   },
   "outputs": [],
   "source": [
    "model = models.load_model(\"cifar10_cnn_model.h5\")"
   ]
  },
  {
   "cell_type": "code",
   "execution_count": null,
   "metadata": {
    "ExecuteTime": {
     "end_time": "2023-04-19T23:53:27.658894Z",
     "start_time": "2023-04-19T23:53:26.817485Z"
    }
   },
   "outputs": [],
   "source": [
    "# Load the MNIST dataset\n",
    "(x_train, y_train), (x_test, y_test) = cifar10.load_data()\n",
    "\n",
    "# Normalize pixel values to be between 0 and 1\n",
    "x_train = x_train.astype(\"float32\") / 255.0\n",
    "x_test = x_test.astype(\"float32\") / 255.0\n",
    "\n",
    "# Convert labels to categorical one-hot encoding\n",
    "y_train = to_categorical(y_train, 10)\n",
    "y_test = to_categorical(y_test, 10)"
   ]
  },
  {
   "cell_type": "code",
   "execution_count": null,
   "metadata": {
    "ExecuteTime": {
     "end_time": "2023-04-19T23:53:36.429060Z",
     "start_time": "2023-04-19T23:53:27.662899Z"
    }
   },
   "outputs": [],
   "source": [
    "# Evaluate the model on the test set\n",
    "score = model.evaluate(x_test, y_test)\n",
    "print(\"Test loss:\", score[0])\n",
    "print(\"Test accuracy:\", score[1])"
   ]
  },
  {
   "cell_type": "code",
   "execution_count": null,
   "metadata": {
    "ExecuteTime": {
     "end_time": "2023-04-19T23:54:02.053475Z",
     "start_time": "2023-04-19T23:53:36.434585Z"
    }
   },
   "outputs": [],
   "source": [
    "# Evaluate the model on the test set\n",
    "score = model.evaluate(x_train, y_train)\n",
    "print(\"Train loss:\", score[0])\n",
    "print(\"Train accuracy:\", score[1])"
   ]
  },
  {
   "cell_type": "code",
   "execution_count": 3,
   "outputs": [
    {
     "name": "stdout",
     "output_type": "stream",
     "text": [
      "Model: \"sequential_2\"\n",
      "_________________________________________________________________\n",
      " Layer (type)                Output Shape              Param #   \n",
      "=================================================================\n",
      " conv2d_19 (Conv2D)          (None, 32, 32, 96)        2688      \n",
      "                                                                 \n",
      " batch_normalization_19 (Bat  (None, 32, 32, 96)       384       \n",
      " chNormalization)                                                \n",
      "                                                                 \n",
      " re_lu (ReLU)                (None, 32, 32, 96)        0         \n",
      "                                                                 \n",
      " conv2d_20 (Conv2D)          (None, 32, 32, 96)        83040     \n",
      "                                                                 \n",
      " batch_normalization_20 (Bat  (None, 32, 32, 96)       384       \n",
      " chNormalization)                                                \n",
      "                                                                 \n",
      " re_lu_1 (ReLU)              (None, 32, 32, 96)        0         \n",
      "                                                                 \n",
      " conv2d_21 (Conv2D)          (None, 32, 32, 96)        83040     \n",
      "                                                                 \n",
      " batch_normalization_21 (Bat  (None, 32, 32, 96)       384       \n",
      " chNormalization)                                                \n",
      "                                                                 \n",
      " re_lu_2 (ReLU)              (None, 32, 32, 96)        0         \n",
      "                                                                 \n",
      " max_pooling2d_4 (MaxPooling  (None, 16, 16, 96)       0         \n",
      " 2D)                                                             \n",
      "                                                                 \n",
      " conv2d_22 (Conv2D)          (None, 16, 16, 192)       166080    \n",
      "                                                                 \n",
      " batch_normalization_22 (Bat  (None, 16, 16, 192)      768       \n",
      " chNormalization)                                                \n",
      "                                                                 \n",
      " re_lu_3 (ReLU)              (None, 16, 16, 192)       0         \n",
      "                                                                 \n",
      " conv2d_23 (Conv2D)          (None, 16, 16, 192)       331968    \n",
      "                                                                 \n",
      " batch_normalization_23 (Bat  (None, 16, 16, 192)      768       \n",
      " chNormalization)                                                \n",
      "                                                                 \n",
      " re_lu_4 (ReLU)              (None, 16, 16, 192)       0         \n",
      "                                                                 \n",
      " conv2d_24 (Conv2D)          (None, 16, 16, 192)       331968    \n",
      "                                                                 \n",
      " batch_normalization_24 (Bat  (None, 16, 16, 192)      768       \n",
      " chNormalization)                                                \n",
      "                                                                 \n",
      " re_lu_5 (ReLU)              (None, 16, 16, 192)       0         \n",
      "                                                                 \n",
      " max_pooling2d_5 (MaxPooling  (None, 8, 8, 192)        0         \n",
      " 2D)                                                             \n",
      "                                                                 \n",
      " conv2d_25 (Conv2D)          (None, 8, 8, 192)         331968    \n",
      "                                                                 \n",
      " batch_normalization_25 (Bat  (None, 8, 8, 192)        768       \n",
      " chNormalization)                                                \n",
      "                                                                 \n",
      " re_lu_6 (ReLU)              (None, 8, 8, 192)         0         \n",
      "                                                                 \n",
      " conv2d_26 (Conv2D)          (None, 8, 8, 192)         37056     \n",
      "                                                                 \n",
      " batch_normalization_26 (Bat  (None, 8, 8, 192)        768       \n",
      " chNormalization)                                                \n",
      "                                                                 \n",
      " re_lu_7 (ReLU)              (None, 8, 8, 192)         0         \n",
      "                                                                 \n",
      " conv2d_27 (Conv2D)          (None, 8, 8, 10)          1930      \n",
      "                                                                 \n",
      " batch_normalization_27 (Bat  (None, 8, 8, 10)         40        \n",
      " chNormalization)                                                \n",
      "                                                                 \n",
      " re_lu_8 (ReLU)              (None, 8, 8, 10)          0         \n",
      "                                                                 \n",
      " global_average_pooling2d_2   (None, 10)               0         \n",
      " (GlobalAveragePooling2D)                                        \n",
      "                                                                 \n",
      "=================================================================\n",
      "Total params: 1,374,770\n",
      "Trainable params: 1,372,254\n",
      "Non-trainable params: 2,516\n",
      "_________________________________________________________________\n"
     ]
    }
   ],
   "source": [
    "model.summary()"
   ],
   "metadata": {
    "collapsed": false,
    "ExecuteTime": {
     "start_time": "2023-04-24T12:26:40.909907Z",
     "end_time": "2023-04-24T12:26:41.030065Z"
    }
   }
  }
 ],
 "metadata": {
  "kernelspec": {
   "display_name": "Python 3 (ipykernel)",
   "language": "python",
   "name": "python3"
  },
  "language_info": {
   "codemirror_mode": {
    "name": "ipython",
    "version": 3
   },
   "file_extension": ".py",
   "mimetype": "text/x-python",
   "name": "python",
   "nbconvert_exporter": "python",
   "pygments_lexer": "ipython3",
   "version": "3.8.15"
  }
 },
 "nbformat": 4,
 "nbformat_minor": 1
}
